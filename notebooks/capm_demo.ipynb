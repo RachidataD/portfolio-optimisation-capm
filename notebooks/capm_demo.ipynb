{
 "cells": [
  {
   "cell_type": "markdown",
   "metadata": {},
   "source": [
    "# CAPM & Simple Portfolio Demo (Public Data)\n",
    "\n",
    "This notebook recreates the core of my finance coursework using **public data** instead of Bloomberg: returns, a 2-asset portfolio sweep, and a CAPM regression."
   ]
  },
  {
   "cell_type": "code",
   "execution_count": null,
   "metadata": {},
   "outputs": [],
   "source": [
    "import yfinance as yf\n",
    "import pandas as pd\n",
    "import numpy as np\n",
    "import matplotlib.pyplot as plt\n",
    "import statsmodels.api as sm\n",
    "\n",
    "tick_stock = 'HSBC.L'   # single stock example\n",
    "tick_mkt   = '^FTSE'    # FTSE 100 proxy\n",
    "start, end = '2020-01-01', '2023-01-01'\n",
    "\n",
    "prices = yf.download([tick_stock, tick_mkt], start=start, end=end)['Adj Close'].dropna()\n",
    "prices.head()"
   ]
  },
  {
   "cell_type": "code",
   "execution_count": null,
   "metadata": {},
   "outputs": [],
   "source": [
    "# Daily returns\n",
    "rets = prices.pct_change().dropna()\n",
    "stock_ret = rets[tick_stock]\n",
    "mkt_ret   = rets[tick_mkt]\n",
    "\n",
    "# Assume rf = 0 for demo\n",
    "excess_stock = stock_ret\n",
    "excess_mkt   = mkt_ret\n",
    "\n",
    "rets.describe()"
   ]
  },
  {
   "cell_type": "code",
   "execution_count": null,
   "metadata": {},
   "outputs": [],
   "source": [
    "# Plot stock vs market returns\n",
    "rets[[tick_stock, tick_mkt]].plot(title=f\"Daily Returns: {tick_stock} vs {tick_mkt}\")\n",
    "plt.xlabel('Date'); plt.ylabel('Return'); plt.show()"
   ]
  },
  {
   "cell_type": "markdown",
   "metadata": {},
   "source": [
    "## 2-Asset Portfolio Sweep\n",
    "Weights for stock go from 0 to 1, market gets the rest."
   ]
  },
  {
   "cell_type": "code",
   "execution_count": null,
   "metadata": {},
   "outputs": [],
   "source": [
    "w_grid = np.linspace(0, 1, 21)\n",
    "mu = rets.mean() * 252  # annualised mean\n",
    "cov = rets.cov() * 252  # annualised covariance\n",
    "\n",
    "mus, sigmas = [], []\n",
    "for w in w_grid:\n",
    "    weights = np.array([w, 1-w])\n",
    "    mu_p = weights @ mu[[tick_stock, tick_mkt]].values\n",
    "    sigma_p = np.sqrt(weights @ cov.loc[[tick_stock, tick_mkt], [tick_stock, tick_mkt]].values @ weights)\n",
    "    mus.append(mu_p); sigmas.append(sigma_p)\n",
    "\n",
    "plt.plot(sigmas, mus, marker='o')\n",
    "plt.title('Risk–Return Sweep (HSBC vs FTSE)')\n",
    "plt.xlabel('Annualised Volatility'); plt.ylabel('Annualised Return')\n",
    "plt.show()"
   ]
  },
  {
   "cell_type": "markdown",
   "metadata": {},
   "source": [
    "## CAPM Regression\n",
    "$r_{stock} - r_f = \\alpha + \\beta (r_{mkt} - r_f) + \\varepsilon$"
   ]
  },
  {
   "cell_type": "code",
   "execution_count": null,
   "metadata": {},
   "outputs": [],
   "source": [
    "X = sm.add_constant(excess_mkt.values)\n",
    "y = excess_stock.values\n",
    "model = sm.OLS(y, X).fit()\n",
    "print(model.summary())"
   ]
  },
  {
   "cell_type": "code",
   "execution_count": null,
   "metadata": {},
   "outputs": [],
   "source": [
    "# Scatter with fitted line\n",
    "plt.scatter(excess_mkt, excess_stock, alpha=0.4)\n",
    "beta, alpha = model.params[1], model.params[0]\n",
    "xline = np.linspace(excess_mkt.min(), excess_mkt.max(), 100)\n",
    "yline = alpha + beta * xline\n",
    "plt.plot(xline, yline, color='red')\n",
    "plt.title(f'CAPM: {tick_stock} vs {tick_mkt} (beta={beta:.2f}, alpha={alpha:.4f})')\n",
    "plt.xlabel('Market Excess Return'); plt.ylabel('Stock Excess Return')\n",
    "plt.show()"
   ]
  }
 ],
 "metadata": {
  "kernelspec": {
   "display_name": "Python 3",
   "language": "python",
   "name": "python3"
  },
  "language_info": {
   "name": "python",
   "version": "3.8"
  }
 },
 "nbformat": 4,
 "nbformat_minor": 2
}
